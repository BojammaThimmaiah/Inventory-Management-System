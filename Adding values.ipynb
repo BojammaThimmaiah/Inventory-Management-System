{
 "cells": [
  {
   "cell_type": "code",
   "execution_count": 41,
   "id": "6fb0ec09",
   "metadata": {},
   "outputs": [],
   "source": [
    "fd=open('record.json','r')\n",
    "r=fd.read()\n",
    "fd.close()"
   ]
  },
  {
   "cell_type": "code",
   "execution_count": 42,
   "id": "b6cbab13",
   "metadata": {},
   "outputs": [
    {
     "data": {
      "text/plain": [
       "'{\"1001\": {\"name\": \"chocolate\", \"qn\": 34, \"pr\": 100, \"weight\": \"3kgs\", \"address\": \"banglore\"}, \"1002\": {\"name\": \"milkcake\", \"qn\": 100, \"pr\": 800, \"weight\": \"2kgs\", \"address\": \"mumbai\"}, \"1003\": {\"name\": \"pepsi\", \"qn\": 4, \"pr\": 40, \"weight\": \"1lts\", \"address\": \"delhi\"}, \"1004\": {\"name\": \"fanta\", \"qn\": 40, \"pr\": 800, \"weight\": \"2lts\", \"address\": \"hyderbad\"}, \"1005\": {\"name\": \"icecream\", \"qn\": 34, \"pr\": 100, \"weight\": \"3kgs\", \"address\": \"chennai\"}}'"
      ]
     },
     "execution_count": 42,
     "metadata": {},
     "output_type": "execute_result"
    }
   ],
   "source": [
    "r"
   ]
  },
  {
   "cell_type": "code",
   "execution_count": 43,
   "id": "02521d4e",
   "metadata": {},
   "outputs": [
    {
     "data": {
      "text/plain": [
       "448"
      ]
     },
     "execution_count": 43,
     "metadata": {},
     "output_type": "execute_result"
    }
   ],
   "source": [
    "len(r)"
   ]
  },
  {
   "cell_type": "code",
   "execution_count": 44,
   "id": "3aa3d0f5",
   "metadata": {},
   "outputs": [
    {
     "data": {
      "text/plain": [
       "str"
      ]
     },
     "execution_count": 44,
     "metadata": {},
     "output_type": "execute_result"
    }
   ],
   "source": [
    "type(r)"
   ]
  },
  {
   "cell_type": "code",
   "execution_count": 45,
   "id": "7a9f38c3",
   "metadata": {},
   "outputs": [],
   "source": [
    "import json"
   ]
  },
  {
   "cell_type": "code",
   "execution_count": 46,
   "id": "55c71362",
   "metadata": {},
   "outputs": [],
   "source": [
    "record=json.loads(r)"
   ]
  },
  {
   "cell_type": "code",
   "execution_count": 47,
   "id": "c41d56e2",
   "metadata": {},
   "outputs": [],
   "source": [
    "fd=open('record.json','r')\n",
    "r=fd.read()\n",
    "fd.close()\n",
    "record=json.loads(r)"
   ]
  },
  {
   "cell_type": "code",
   "execution_count": 48,
   "id": "c082a0ce",
   "metadata": {},
   "outputs": [
    {
     "data": {
      "text/plain": [
       "{'1001': {'name': 'chocolate',\n",
       "  'qn': 34,\n",
       "  'pr': 100,\n",
       "  'weight': '3kgs',\n",
       "  'address': 'banglore'},\n",
       " '1002': {'name': 'milkcake',\n",
       "  'qn': 100,\n",
       "  'pr': 800,\n",
       "  'weight': '2kgs',\n",
       "  'address': 'mumbai'},\n",
       " '1003': {'name': 'pepsi',\n",
       "  'qn': 4,\n",
       "  'pr': 40,\n",
       "  'weight': '1lts',\n",
       "  'address': 'delhi'},\n",
       " '1004': {'name': 'fanta',\n",
       "  'qn': 40,\n",
       "  'pr': 800,\n",
       "  'weight': '2lts',\n",
       "  'address': 'hyderbad'},\n",
       " '1005': {'name': 'icecream',\n",
       "  'qn': 34,\n",
       "  'pr': 100,\n",
       "  'weight': '3kgs',\n",
       "  'address': 'chennai'}}"
      ]
     },
     "execution_count": 48,
     "metadata": {},
     "output_type": "execute_result"
    }
   ],
   "source": [
    "record"
   ]
  },
  {
   "cell_type": "code",
   "execution_count": 51,
   "id": "8b819258",
   "metadata": {},
   "outputs": [
    {
     "name": "stdout",
     "output_type": "stream",
     "text": [
      "enter product id:1006\n",
      "enter name:doughnuts\n",
      "enter quantity:5\n",
      "enter price:70\n",
      "enter the weight:5kgs\n",
      "enter the address:mumbai\n"
     ]
    }
   ],
   "source": [
    "prod_id=str(input('enter product id:'))\n",
    "name=str(input('enter name:'))\n",
    "qr=int(input('enter quantity:'))\n",
    "pn=int(input('enter price:'))\n",
    "weight=str(input('enter the weight:'))\n",
    "address=str(input('enter the address:'))\n",
    "record[prod_id]={'name': name, 'qr' : qr, 'pn' : pn, 'weight' : weight, 'address' : address}"
   ]
  },
  {
   "cell_type": "code",
   "execution_count": 52,
   "id": "60ba565e",
   "metadata": {},
   "outputs": [
    {
     "data": {
      "text/plain": [
       "{'1001': {'name': 'chocolate',\n",
       "  'qn': 34,\n",
       "  'pr': 100,\n",
       "  'weight': '3kgs',\n",
       "  'address': 'banglore'},\n",
       " '1002': {'name': 'milkcake',\n",
       "  'qn': 100,\n",
       "  'pr': 800,\n",
       "  'weight': '2kgs',\n",
       "  'address': 'mumbai'},\n",
       " '1003': {'name': 'pepsi',\n",
       "  'qn': 4,\n",
       "  'pr': 40,\n",
       "  'weight': '1lts',\n",
       "  'address': 'delhi'},\n",
       " '1004': {'name': 'fanta',\n",
       "  'qn': 40,\n",
       "  'pr': 800,\n",
       "  'weight': '2lts',\n",
       "  'address': 'hyderbad'},\n",
       " '1005': {'name': 'icecream',\n",
       "  'qn': 34,\n",
       "  'pr': 100,\n",
       "  'weight': '3kgs',\n",
       "  'address': 'chennai'},\n",
       " '1006': {'name': 'doughnuts',\n",
       "  'qr': 5,\n",
       "  'pn': 70,\n",
       "  'weight': '5kgs',\n",
       "  'address': 'mumbai'}}"
      ]
     },
     "execution_count": 52,
     "metadata": {},
     "output_type": "execute_result"
    }
   ],
   "source": [
    "record"
   ]
  },
  {
   "cell_type": "code",
   "execution_count": 53,
   "id": "2d1fd651",
   "metadata": {},
   "outputs": [
    {
     "name": "stdout",
     "output_type": "stream",
     "text": [
      "enter product id:1003\n",
      "enter name:pepsi\n",
      "enter quantity:10\n",
      "enter price:100\n",
      "enter the weight:1lts\n",
      "enter the address:delhi\n"
     ]
    }
   ],
   "source": [
    "prod_id=str(input('enter product id:'))\n",
    "name=str(input('enter name:'))\n",
    "qr=int(input('enter quantity:'))\n",
    "pn=int(input('enter price:'))\n",
    "weight=str(input('enter the weight:'))\n",
    "address=str(input('enter the address:'))\n",
    "record[prod_id]={'name': name, 'qr' : qr, 'pn' : pn, 'weight' : weight, 'address' : address}"
   ]
  },
  {
   "cell_type": "code",
   "execution_count": 54,
   "id": "0afb28e8",
   "metadata": {},
   "outputs": [
    {
     "data": {
      "text/plain": [
       "{'1001': {'name': 'chocolate',\n",
       "  'qn': 34,\n",
       "  'pr': 100,\n",
       "  'weight': '3kgs',\n",
       "  'address': 'banglore'},\n",
       " '1002': {'name': 'milkcake',\n",
       "  'qn': 100,\n",
       "  'pr': 800,\n",
       "  'weight': '2kgs',\n",
       "  'address': 'mumbai'},\n",
       " '1003': {'name': 'pepsi',\n",
       "  'qr': 10,\n",
       "  'pn': 100,\n",
       "  'weight': '1lts',\n",
       "  'address': 'delhi'},\n",
       " '1004': {'name': 'fanta',\n",
       "  'qn': 40,\n",
       "  'pr': 800,\n",
       "  'weight': '2lts',\n",
       "  'address': 'hyderbad'},\n",
       " '1005': {'name': 'icecream',\n",
       "  'qn': 34,\n",
       "  'pr': 100,\n",
       "  'weight': '3kgs',\n",
       "  'address': 'chennai'},\n",
       " '1006': {'name': 'doughnuts',\n",
       "  'qr': 5,\n",
       "  'pn': 70,\n",
       "  'weight': '5kgs',\n",
       "  'address': 'mumbai'}}"
      ]
     },
     "execution_count": 54,
     "metadata": {},
     "output_type": "execute_result"
    }
   ],
   "source": [
    "record"
   ]
  },
  {
   "cell_type": "code",
   "execution_count": 64,
   "id": "54d4f054",
   "metadata": {},
   "outputs": [
    {
     "name": "stdout",
     "output_type": "stream",
     "text": [
      "enter product id:1007\n",
      "enter name:buns\n",
      "enter quantity:6\n",
      "enter price:70\n",
      "enter the weight:1kg\n",
      "enter the address:mumbai\n",
      "enter product id:1008\n",
      "enter name:bread\n",
      "enter quantity:4\n",
      "enter price:30\n",
      "enter the weight:2kgs\n",
      "enter the address:delhi\n",
      "enter product id:1009\n",
      "enter name:pies\n",
      "enter quantity:7\n",
      "enter price:70\n",
      "enter the weight:3kgs\n",
      "enter the address:banglore\n",
      "enter product id:1010\n",
      "enter name:pizza\n",
      "enter quantity:10\n",
      "enter price:80\n",
      "enter the weight:3kgs\n",
      "enter the address:banglore\n",
      "enter product id:1011\n",
      "enter name:sweet rolls\n",
      "enter quantity:11\n",
      "enter price:40\n",
      "enter the weight:2kgs\n",
      "enter the address:mysore\n",
      "enter product id:1012\n",
      "enter name:merenda\n",
      "enter quantity:12\n",
      "enter price:60\n",
      "enter the weight:2lts\n",
      "enter the address:chennai\n",
      "enter product id:1013\n",
      "enter name:cookies\n",
      "enter quantity:6\n",
      "enter price:80\n",
      "enter the weight:2kgs\n",
      "enter the address:hyderbad\n",
      "enter product id:1014\n",
      "enter name:chicken rolls\n",
      "enter quantity:5\n",
      "enter price:90\n",
      "enter the weight:4kgs\n",
      "enter the address:mumbai\n",
      "enter product id:1015\n",
      "enter name:biscuits\n",
      "enter quantity:4\n",
      "enter price:40\n",
      "enter the weight:2kgs\n",
      "enter the address:banglore\n",
      "enter product id:1016\n",
      "enter name:rusk toast\n",
      "enter quantity:3\n",
      "enter price:30\n",
      "enter the weight:2kgs\n",
      "enter the address:mysore\n",
      "enter product id:1017\n",
      "enter name:pastry\n",
      "enter quantity:1\n",
      "enter price:100\n",
      "enter the weight:2kgs\n",
      "enter the address:hyderbad\n",
      "enter product id:1018\n",
      "enter name:muffins\n",
      "enter quantity:7\n",
      "enter price:70\n",
      "enter the weight:1kg\n",
      "enter the address:mumbai\n",
      "enter product id:1019\n",
      "enter name:cupcakes\n",
      "enter quantity:10\n",
      "enter price:100\n",
      "enter the weight:2kgs\n",
      "enter the address:mysore\n",
      "enter product id:1020\n",
      "enter name:plum cake\n",
      "enter quantity:4\n",
      "enter price:40\n",
      "enter the weight:2kgs\n",
      "enter the address:banglore\n",
      "enter product id:1021\n",
      "enter name:mountain dew\n",
      "enter quantity:5\n",
      "enter price:50\n",
      "enter the weight:2lts\n",
      "enter the address:chennai\n",
      "enter product id:1022\n",
      "enter name:7up\n",
      "enter quantity:8\n",
      "enter price:80\n",
      "enter the weight:2lts\n",
      "enter the address:mumbai\n",
      "enter product id:1023\n",
      "enter name:coco cola\n",
      "enter quantity:9\n",
      "enter price:90\n",
      "enter the weight:2lts\n",
      "enter the address:delhi\n",
      "enter product id:1024\n",
      "enter name:red bull\n",
      "enter quantity:11\n",
      "enter price:150\n",
      "enter the weight:2lts\n",
      "enter the address:mumbai\n",
      "enter product id:1025\n",
      "enter name:sprit\n",
      "enter quantity:15\n",
      "enter price:100\n",
      "enter the weight:1lts\n",
      "enter the address:delhi\n",
      "enter product id:1026\n",
      "enter name:slice\n",
      "enter quantity:11\n",
      "enter price:100\n",
      "enter the weight:1lts\n",
      "enter the address:banglore\n",
      "enter product id:1027\n",
      "enter name:marshmallows\n",
      "enter quantity:12\n",
      "enter price:130\n",
      "enter the weight:2kgs\n",
      "enter the address:delhi\n",
      "enter product id:1028\n",
      "enter name:blueberry cake\n",
      "enter quantity:17\n",
      "enter price:50\n",
      "enter the weight:2kgs\n",
      "enter the address:banglore\n",
      "enter product id:1029\n",
      "enter name:oreo\n",
      "enter quantity:20\n",
      "enter price:30\n",
      "enter the weight:1kg\n",
      "enter the address:chennai\n",
      "enter product id:1030\n",
      "enter name:laddu\n",
      "enter quantity:10\n",
      "enter price:60\n",
      "enter the weight:2kgs\n",
      "enter the address:hyderbad\n",
      "enter product id:1031\n",
      "enter name:maggie\n",
      "enter quantity:5\n",
      "enter price:50\n",
      "enter the weight:1kg\n",
      "enter the address:delhi\n"
     ]
    }
   ],
   "source": [
    "i=1\n",
    "while i<=25:\n",
    "    prod_id=str(input('enter product id:'))\n",
    "    name=str(input('enter name:'))\n",
    "    qr=int(input('enter quantity:'))\n",
    "    pn=int(input('enter price:'))\n",
    "    weight=str(input('enter the weight:'))\n",
    "    address=str(input('enter the address:'))\n",
    "    record[prod_id]={'name': name, 'qr' : qr, 'pn' : pn, 'weight' : weight, 'address' : address}\n",
    "    i=i+1"
   ]
  },
  {
   "cell_type": "code",
   "execution_count": 65,
   "id": "f9709af7",
   "metadata": {},
   "outputs": [
    {
     "data": {
      "text/plain": [
       "{'1001': {'name': 'chocolate',\n",
       "  'qr': 34,\n",
       "  'pn': 100,\n",
       "  'weight': '3kgs',\n",
       "  'address': 'banglore'},\n",
       " '1002': {'name': 'milkcake',\n",
       "  'qn': 100,\n",
       "  'pr': 800,\n",
       "  'weight': '2kgs',\n",
       "  'address': 'mumbai'},\n",
       " '1003': {'name': 'pepsi',\n",
       "  'qr': 10,\n",
       "  'pn': 100,\n",
       "  'weight': '1lts',\n",
       "  'address': 'delhi'},\n",
       " '1004': {'name': 'fanta',\n",
       "  'qn': 40,\n",
       "  'pr': 800,\n",
       "  'weight': '2lts',\n",
       "  'address': 'hyderbad'},\n",
       " '1005': {'name': 'icecream',\n",
       "  'qn': 34,\n",
       "  'pr': 100,\n",
       "  'weight': '3kgs',\n",
       "  'address': 'chennai'},\n",
       " '1006': {'name': 'doughnuts',\n",
       "  'qr': 5,\n",
       "  'pn': 70,\n",
       "  'weight': '5kgs',\n",
       "  'address': 'mumbai'},\n",
       " '1007': {'name': 'buns',\n",
       "  'qr': 6,\n",
       "  'pn': 70,\n",
       "  'weight': '1kg',\n",
       "  'address': 'mumbai'},\n",
       " '1008': {'name': 'bread',\n",
       "  'qr': 4,\n",
       "  'pn': 30,\n",
       "  'weight': '2kgs',\n",
       "  'address': 'delhi'},\n",
       " '1009': {'name': 'pies',\n",
       "  'qr': 7,\n",
       "  'pn': 70,\n",
       "  'weight': '3kgs',\n",
       "  'address': 'banglore'},\n",
       " '1010': {'name': 'pizza',\n",
       "  'qr': 10,\n",
       "  'pn': 80,\n",
       "  'weight': '3kgs',\n",
       "  'address': 'banglore'},\n",
       " '1011': {'name': 'sweet rolls',\n",
       "  'qr': 11,\n",
       "  'pn': 40,\n",
       "  'weight': '2kgs',\n",
       "  'address': 'mysore'},\n",
       " '1012': {'name': 'merenda',\n",
       "  'qr': 12,\n",
       "  'pn': 60,\n",
       "  'weight': '2lts',\n",
       "  'address': 'chennai'},\n",
       " '1013': {'name': 'cookies',\n",
       "  'qr': 6,\n",
       "  'pn': 80,\n",
       "  'weight': '2kgs',\n",
       "  'address': 'hyderbad'},\n",
       " '1014': {'name': 'chicken rolls',\n",
       "  'qr': 5,\n",
       "  'pn': 90,\n",
       "  'weight': '4kgs',\n",
       "  'address': 'mumbai'},\n",
       " '1015': {'name': 'biscuits',\n",
       "  'qr': 4,\n",
       "  'pn': 40,\n",
       "  'weight': '2kgs',\n",
       "  'address': 'banglore'},\n",
       " '1016': {'name': 'rusk toast',\n",
       "  'qr': 3,\n",
       "  'pn': 30,\n",
       "  'weight': '2kgs',\n",
       "  'address': 'mysore'},\n",
       " '1017': {'name': 'pastry',\n",
       "  'qr': 1,\n",
       "  'pn': 100,\n",
       "  'weight': '2kgs',\n",
       "  'address': 'hyderbad'},\n",
       " '1018': {'name': 'muffins',\n",
       "  'qr': 7,\n",
       "  'pn': 70,\n",
       "  'weight': '1kg',\n",
       "  'address': 'mumbai'},\n",
       " '1019': {'name': 'cupcakes',\n",
       "  'qr': 10,\n",
       "  'pn': 100,\n",
       "  'weight': '2kgs',\n",
       "  'address': 'mysore'},\n",
       " '1020': {'name': 'plum cake',\n",
       "  'qr': 4,\n",
       "  'pn': 40,\n",
       "  'weight': '2kgs',\n",
       "  'address': 'banglore'},\n",
       " '1021': {'name': 'mountain dew',\n",
       "  'qr': 5,\n",
       "  'pn': 50,\n",
       "  'weight': '2lts',\n",
       "  'address': 'chennai'},\n",
       " '1022': {'name': '7up',\n",
       "  'qr': 8,\n",
       "  'pn': 80,\n",
       "  'weight': '2lts',\n",
       "  'address': 'mumbai'},\n",
       " '1023': {'name': 'coco cola',\n",
       "  'qr': 9,\n",
       "  'pn': 90,\n",
       "  'weight': '2lts',\n",
       "  'address': 'delhi'},\n",
       " '1024': {'name': 'red bull',\n",
       "  'qr': 11,\n",
       "  'pn': 150,\n",
       "  'weight': '2lts',\n",
       "  'address': 'mumbai'},\n",
       " '1025': {'name': 'sprit',\n",
       "  'qr': 15,\n",
       "  'pn': 100,\n",
       "  'weight': '1lts',\n",
       "  'address': 'delhi'},\n",
       " '1026': {'name': 'slice',\n",
       "  'qr': 11,\n",
       "  'pn': 100,\n",
       "  'weight': '1lts',\n",
       "  'address': 'banglore'},\n",
       " '1027': {'name': 'marshmallows',\n",
       "  'qr': 12,\n",
       "  'pn': 130,\n",
       "  'weight': '2kgs',\n",
       "  'address': 'delhi'},\n",
       " '1028': {'name': 'blueberry cake',\n",
       "  'qr': 17,\n",
       "  'pn': 50,\n",
       "  'weight': '2kgs',\n",
       "  'address': 'banglore'},\n",
       " '1029': {'name': 'oreo',\n",
       "  'qr': 20,\n",
       "  'pn': 30,\n",
       "  'weight': '1kg',\n",
       "  'address': 'chennai'},\n",
       " '1030': {'name': 'laddu',\n",
       "  'qr': 10,\n",
       "  'pn': 60,\n",
       "  'weight': '2kgs',\n",
       "  'address': 'hyderbad'},\n",
       " '1031': {'name': 'maggie',\n",
       "  'qr': 5,\n",
       "  'pn': 50,\n",
       "  'weight': '1kg',\n",
       "  'address': 'delhi'}}"
      ]
     },
     "execution_count": 65,
     "metadata": {},
     "output_type": "execute_result"
    }
   ],
   "source": [
    "record"
   ]
  },
  {
   "cell_type": "code",
   "execution_count": 66,
   "id": "ef4586eb",
   "metadata": {},
   "outputs": [],
   "source": [
    "js=json.dumps(record)"
   ]
  },
  {
   "cell_type": "code",
   "execution_count": 67,
   "id": "c1befd5c",
   "metadata": {},
   "outputs": [],
   "source": [
    "fd=open('record.json','w')\n",
    "fd.write(js)\n",
    "fd.close()"
   ]
  },
  {
   "cell_type": "code",
   "execution_count": 68,
   "id": "b3d9f0f5",
   "metadata": {},
   "outputs": [],
   "source": [
    "fd=open('record.json','r')\n",
    "txt=fd.read()\n",
    "fd.close()"
   ]
  },
  {
   "cell_type": "code",
   "execution_count": null,
   "id": "8790c7ea",
   "metadata": {},
   "outputs": [],
   "source": []
  }
 ],
 "metadata": {
  "kernelspec": {
   "display_name": "Python 3",
   "language": "python",
   "name": "python3"
  },
  "language_info": {
   "codemirror_mode": {
    "name": "ipython",
    "version": 3
   },
   "file_extension": ".py",
   "mimetype": "text/x-python",
   "name": "python",
   "nbconvert_exporter": "python",
   "pygments_lexer": "ipython3",
   "version": "3.8.8"
  }
 },
 "nbformat": 4,
 "nbformat_minor": 5
}
